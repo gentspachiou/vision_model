{
  "nbformat": 4,
  "nbformat_minor": 0,
  "metadata": {
    "accelerator": "GPU",
    "colab": {
      "name": "Simple_model.ipynb",
      "provenance": [],
      "collapsed_sections": []
    },
    "kernelspec": {
      "display_name": "Python 3",
      "language": "python",
      "name": "python3"
    },
    "language_info": {
      "codemirror_mode": {
        "name": "ipython",
        "version": 3
      },
      "file_extension": ".py",
      "mimetype": "text/x-python",
      "name": "python",
      "nbconvert_exporter": "python",
      "pygments_lexer": "ipython3",
      "version": "3.7.6"
    }
  },
  "cells": [
    {
      "cell_type": "code",
      "metadata": {
        "colab": {
          "base_uri": "https://localhost:8080/"
        },
        "id": "ZSHmkylf4T7F",
        "outputId": "2001372c-a7e5-4934-ebd0-d37aa3f38f74"
      },
      "source": [
        "#Import necessary tools needed for the project\n",
        "!pip install split-folders        #tool for creating training/validation/test folders\n",
        "import tensorflow as tf     #tensorflow framework\n",
        "from tensorflow.keras import layers, models, optimizers     #necessary tools from keras API to build the model\n",
        " \n",
        "import os           #for working with folders \n",
        "import zipfile      #for working with zif file\n",
        "import splitfolders #as above\n",
        " \n",
        "from tensorflow.keras.preprocessing.image import ImageDataGenerator     #tools for image processing and data augmentation"
      ],
      "execution_count": null,
      "outputs": [
        {
          "output_type": "stream",
          "text": [
            "Requirement already satisfied: split-folders in /usr/local/lib/python3.7/dist-packages (0.4.3)\n"
          ],
          "name": "stdout"
        }
      ]
    },
    {
      "cell_type": "markdown",
      "metadata": {
        "id": "9brUxyTpYZHy"
      },
      "source": [
        "The following python code will use the OS library to use Operating System libraries, giving access to the file system, and the zipfile library allowing to unzip the data. "
      ]
    },
    {
      "cell_type": "code",
      "metadata": {
        "id": "PLy3pthUS0D2"
      },
      "source": [
        "local_zip = '/dataset.zip'      #folder location of zip dataset provided\n",
        "\n",
        "zip_ref = zipfile.ZipFile(local_zip, 'r')\n",
        "\n",
        "#extract the zip file containing all the pictures of the dataset in the given directory\n",
        "zip_ref.extractall('/content/dataset1')\n",
        "zip_ref.close()"
      ],
      "execution_count": null,
      "outputs": []
    },
    {
      "cell_type": "markdown",
      "metadata": {
        "id": "o-qUPyfO7Qr8"
      },
      "source": [
        "Now let's create a training and validation folders and splitting of the given data so we can train and test the model later on."
      ]
    },
    {
      "cell_type": "code",
      "metadata": {
        "colab": {
          "base_uri": "https://localhost:8080/"
        },
        "id": "MLZKVtE0dSfk",
        "outputId": "dacf2418-2b7c-4b19-8e9f-44791a85ceda"
      },
      "source": [
        "splitfolders.ratio('/content/dataset1', output=\"/content/train_val\", seed=1337, ratio=(0.8,0.2)) \n"
      ],
      "execution_count": null,
      "outputs": [
        {
          "output_type": "stream",
          "text": [
            "Copying files: 300 files [00:00, 4577.65 files/s]\n"
          ],
          "name": "stderr"
        }
      ]
    },
    {
      "cell_type": "markdown",
      "metadata": {
        "id": "89L5M8XmRdJe"
      },
      "source": [
        "In the following cell will create the model architecture using a simple sequential API.\n",
        "\n",
        "\n"
      ]
    },
    {
      "cell_type": "code",
      "metadata": {
        "id": "6vr0d30v_vkp"
      },
      "source": [
        "def create_model():\n",
        "  model = models.Sequential([\n",
        "  #Conv2D  layer for performing convolution on image, 32 filters, stride= 3 by 3, relu activation and input shape I have\n",
        "  #choose at 500 by 350 (a bit less than the original image size) at 3 RGB channels\n",
        "  #I have choosen this image input beccause the bigger the image the more features can be exctracted and since\n",
        "  #there are only  a handful images we should use every valuable info from them\n",
        "  layers.Conv2D(32, (3, 3), activation='relu', input_shape=(500, 350, 3)),\n",
        "  #A maxpooling layer serves to reduction of parameters and compression \n",
        "  #Batchnormaliation layer  helps normalizing the parameters\n",
        "  #so the gradient descent can be more optimal in the process\n",
        "  tf.keras.layers.BatchNormalization(),\n",
        "  layers.MaxPooling2D((2, 2)),\n",
        "  layers.Conv2D(64, (3, 3), activation='relu'),\n",
        "  #Batchnormaliation layer  helps normalizing the parameters\n",
        "  #so the gradient descent can be more optimal in the process\n",
        "  tf.keras.layers.BatchNormalization(),\n",
        "  layers.MaxPooling2D((2, 2)),\n",
        "  layers.Conv2D(64, (3, 3), activation='relu'),\n",
        "  tf.keras.layers.BatchNormalization(),\n",
        "  layers.MaxPooling2D((2, 2)),\n",
        "  layers.Conv2D(128, (3, 3), activation='relu'),\n",
        "  tf.keras.layers.BatchNormalization(),\n",
        "  layers.MaxPooling2D((2, 2)),\n",
        "  #The flatten layer prepares the convolution outputs for a dense layer\n",
        "  layers.Flatten(),\n",
        "  layers.Dense(512, activation='relu'),\n",
        "  #Activation in the last dense layer is softmax since we have three classes\n",
        "  layers.Dense(3, activation='softmax')\n",
        "  ])\n",
        " \n",
        " \n",
        "  # Compile the model, loss is used SparseCategoricalCrossentropy since we have 3 outputs\n",
        "  #The optimizer I have used is Adam and learning rate according to tests is most optimal at lr= 3e-4 but can be changed\n",
        "  model.compile(\n",
        "      loss=tf.keras.losses.SparseCategoricalCrossentropy(),\n",
        "      optimizer=optimizers.Adam(learning_rate=3e-4),\n",
        "      metrics=[tf.keras.metrics.SparseCategoricalAccuracy()]\n",
        "  )\n",
        " \n",
        "  return model"
      ],
      "execution_count": null,
      "outputs": []
    },
    {
      "cell_type": "code",
      "metadata": {
        "colab": {
          "base_uri": "https://localhost:8080/"
        },
        "id": "EkSvEs94AOaI",
        "outputId": "e2f44af9-7ea8-499f-d342-85a509fe28e9"
      },
      "source": [
        "# Create a model to use with the dataset\n",
        "model = create_model()\n",
        "\n",
        "# Print the model's summary\n",
        "print(model.summary())"
      ],
      "execution_count": null,
      "outputs": [
        {
          "output_type": "stream",
          "text": [
            "Model: \"sequential\"\n",
            "_________________________________________________________________\n",
            "Layer (type)                 Output Shape              Param #   \n",
            "=================================================================\n",
            "conv2d (Conv2D)              (None, 498, 348, 32)      896       \n",
            "_________________________________________________________________\n",
            "batch_normalization (BatchNo (None, 498, 348, 32)      128       \n",
            "_________________________________________________________________\n",
            "max_pooling2d (MaxPooling2D) (None, 249, 174, 32)      0         \n",
            "_________________________________________________________________\n",
            "conv2d_1 (Conv2D)            (None, 247, 172, 64)      18496     \n",
            "_________________________________________________________________\n",
            "batch_normalization_1 (Batch (None, 247, 172, 64)      256       \n",
            "_________________________________________________________________\n",
            "max_pooling2d_1 (MaxPooling2 (None, 123, 86, 64)       0         \n",
            "_________________________________________________________________\n",
            "conv2d_2 (Conv2D)            (None, 121, 84, 64)       36928     \n",
            "_________________________________________________________________\n",
            "batch_normalization_2 (Batch (None, 121, 84, 64)       256       \n",
            "_________________________________________________________________\n",
            "max_pooling2d_2 (MaxPooling2 (None, 60, 42, 64)        0         \n",
            "_________________________________________________________________\n",
            "conv2d_3 (Conv2D)            (None, 58, 40, 128)       73856     \n",
            "_________________________________________________________________\n",
            "batch_normalization_3 (Batch (None, 58, 40, 128)       512       \n",
            "_________________________________________________________________\n",
            "max_pooling2d_3 (MaxPooling2 (None, 29, 20, 128)       0         \n",
            "_________________________________________________________________\n",
            "flatten (Flatten)            (None, 74240)             0         \n",
            "_________________________________________________________________\n",
            "dense (Dense)                (None, 512)               38011392  \n",
            "_________________________________________________________________\n",
            "dense_1 (Dense)              (None, 3)                 1539      \n",
            "=================================================================\n",
            "Total params: 38,144,259\n",
            "Trainable params: 38,143,683\n",
            "Non-trainable params: 576\n",
            "_________________________________________________________________\n",
            "None\n"
          ],
          "name": "stdout"
        }
      ]
    },
    {
      "cell_type": "markdown",
      "metadata": {
        "id": "7i8lnODKToAO"
      },
      "source": [
        "In the next cell I am going to use the ImageDataGenerator from keras to augment the training data since the number of images is quite small. In the ImageDataGenerator function I am using a number of tweeks defined in the fucntion definiton in keras. No data augmentation is done for the validation set, no need since its not used for training the model performance only testing.\n"
      ]
    },
    {
      "cell_type": "code",
      "metadata": {
        "colab": {
          "base_uri": "https://localhost:8080/"
        },
        "id": "ClebU9NJg99G",
        "outputId": "4dabe7b3-7fbe-4440-cb26-5c5c6a5a526b"
      },
      "source": [
        "# Now applying image augmentation\n",
        "train_datagen = ImageDataGenerator(\n",
        "        rescale=1./255,\n",
        "        rotation_range=50,\n",
        "        width_shift_range=0.15,\n",
        "        height_shift_range=0.15,\n",
        "        shear_range=0.2,\n",
        "        zoom_range=0.2,\n",
        "        horizontal_flip=True)\n",
        "\n",
        "#image normalization between 0 and 1\n",
        "test_datagen = ImageDataGenerator(rescale=1./255)\n",
        "\n",
        "# Pointing to directory with full dataset and creating a generator for feeding training and \n",
        "#validation images to the model later on\n",
        "train_generator = train_datagen.flow_from_directory(\n",
        "        '/content/train_val/train',\n",
        "        target_size=(500, 350),\n",
        "        batch_size=40,\n",
        "        class_mode='binary')\n",
        "\n",
        "validation_generator = test_datagen.flow_from_directory(\n",
        "        '/content/train_val/val',\n",
        "        target_size=(500, 350),\n",
        "        batch_size=20,\n",
        "        class_mode='binary')"
      ],
      "execution_count": null,
      "outputs": [
        {
          "output_type": "stream",
          "text": [
            "Found 240 images belonging to 3 classes.\n",
            "Found 60 images belonging to 3 classes.\n"
          ],
          "name": "stdout"
        }
      ]
    },
    {
      "cell_type": "code",
      "metadata": {
        "colab": {
          "base_uri": "https://localhost:8080/"
        },
        "id": "VuXICn69Eypp",
        "outputId": "12478089-f1ed-48f7-e74d-5666779c8575"
      },
      "source": [
        "print(f\"labels for each class in the train generator are: {train_generator.class_indices}\")\n",
        "print(f\"labels for each class in the validation generator are: {validation_generator.class_indices}\")"
      ],
      "execution_count": null,
      "outputs": [
        {
          "output_type": "stream",
          "text": [
            "labels for each class in the train generator are: {'animals': 0, 'buildings': 1, 'landscapes': 2}\n",
            "labels for each class in the validation generator are: {'animals': 0, 'buildings': 1, 'landscapes': 2}\n"
          ],
          "name": "stdout"
        }
      ]
    },
    {
      "cell_type": "markdown",
      "metadata": {
        "id": "qWANvbIaWVyS"
      },
      "source": [
        "Now its time to train the model using model.fit and suplying the training and validation generator for 150 epochs. "
      ]
    },
    {
      "cell_type": "code",
      "metadata": {
        "colab": {
          "base_uri": "https://localhost:8080/"
        },
        "id": "Fb1_lgobv81m",
        "outputId": "302f5af4-605d-4d87-bd39-8fa2339da778"
      },
      "source": [
        "history = model.fit(train_generator,\n",
        "                              validation_data=validation_generator,\n",
        "                              steps_per_epoch=6,\n",
        "                              epochs=150,\n",
        "                              validation_steps=2,\n",
        "                              verbose=2)"
      ],
      "execution_count": null,
      "outputs": [
        {
          "output_type": "stream",
          "text": [
            "Epoch 1/150\n",
            "6/6 - 15s - loss: 15.6660 - sparse_categorical_accuracy: 0.4250 - val_loss: 1.2574 - val_sparse_categorical_accuracy: 0.3250\n",
            "Epoch 2/150\n",
            "6/6 - 9s - loss: 5.1276 - sparse_categorical_accuracy: 0.4625 - val_loss: 1.6688 - val_sparse_categorical_accuracy: 0.3500\n",
            "Epoch 3/150\n",
            "6/6 - 9s - loss: 1.7233 - sparse_categorical_accuracy: 0.5750 - val_loss: 1.8196 - val_sparse_categorical_accuracy: 0.2250\n",
            "Epoch 4/150\n",
            "6/6 - 9s - loss: 1.1922 - sparse_categorical_accuracy: 0.6375 - val_loss: 2.8258 - val_sparse_categorical_accuracy: 0.3000\n",
            "Epoch 5/150\n",
            "6/6 - 9s - loss: 1.3863 - sparse_categorical_accuracy: 0.6375 - val_loss: 2.8476 - val_sparse_categorical_accuracy: 0.4500\n",
            "Epoch 6/150\n",
            "6/6 - 9s - loss: 1.0743 - sparse_categorical_accuracy: 0.6750 - val_loss: 3.3311 - val_sparse_categorical_accuracy: 0.4750\n",
            "Epoch 7/150\n",
            "6/6 - 9s - loss: 0.8239 - sparse_categorical_accuracy: 0.7708 - val_loss: 4.1064 - val_sparse_categorical_accuracy: 0.2500\n",
            "Epoch 8/150\n",
            "6/6 - 9s - loss: 0.6682 - sparse_categorical_accuracy: 0.7750 - val_loss: 4.4516 - val_sparse_categorical_accuracy: 0.3500\n",
            "Epoch 9/150\n",
            "6/6 - 9s - loss: 0.6600 - sparse_categorical_accuracy: 0.7625 - val_loss: 4.9950 - val_sparse_categorical_accuracy: 0.3000\n",
            "Epoch 10/150\n",
            "6/6 - 9s - loss: 0.6401 - sparse_categorical_accuracy: 0.7500 - val_loss: 4.3836 - val_sparse_categorical_accuracy: 0.3250\n",
            "Epoch 11/150\n",
            "6/6 - 9s - loss: 0.5621 - sparse_categorical_accuracy: 0.8208 - val_loss: 4.9720 - val_sparse_categorical_accuracy: 0.2500\n",
            "Epoch 12/150\n",
            "6/6 - 9s - loss: 0.4970 - sparse_categorical_accuracy: 0.7917 - val_loss: 5.3983 - val_sparse_categorical_accuracy: 0.3750\n",
            "Epoch 13/150\n",
            "6/6 - 9s - loss: 0.4045 - sparse_categorical_accuracy: 0.8583 - val_loss: 5.4301 - val_sparse_categorical_accuracy: 0.2750\n",
            "Epoch 14/150\n",
            "6/6 - 9s - loss: 0.4367 - sparse_categorical_accuracy: 0.8375 - val_loss: 5.8014 - val_sparse_categorical_accuracy: 0.3500\n",
            "Epoch 15/150\n",
            "6/6 - 9s - loss: 0.3852 - sparse_categorical_accuracy: 0.8583 - val_loss: 4.4368 - val_sparse_categorical_accuracy: 0.4000\n",
            "Epoch 16/150\n",
            "6/6 - 9s - loss: 0.3217 - sparse_categorical_accuracy: 0.8875 - val_loss: 4.2297 - val_sparse_categorical_accuracy: 0.3250\n",
            "Epoch 17/150\n",
            "6/6 - 9s - loss: 0.3847 - sparse_categorical_accuracy: 0.8667 - val_loss: 5.5969 - val_sparse_categorical_accuracy: 0.2500\n",
            "Epoch 18/150\n",
            "6/6 - 9s - loss: 0.3782 - sparse_categorical_accuracy: 0.8500 - val_loss: 5.1804 - val_sparse_categorical_accuracy: 0.3000\n",
            "Epoch 19/150\n",
            "6/6 - 9s - loss: 0.3425 - sparse_categorical_accuracy: 0.8500 - val_loss: 4.1689 - val_sparse_categorical_accuracy: 0.3750\n",
            "Epoch 20/150\n",
            "6/6 - 9s - loss: 0.2945 - sparse_categorical_accuracy: 0.8875 - val_loss: 5.7350 - val_sparse_categorical_accuracy: 0.3250\n",
            "Epoch 21/150\n",
            "6/6 - 9s - loss: 0.3288 - sparse_categorical_accuracy: 0.8750 - val_loss: 4.5569 - val_sparse_categorical_accuracy: 0.3000\n",
            "Epoch 22/150\n",
            "6/6 - 9s - loss: 0.3235 - sparse_categorical_accuracy: 0.8750 - val_loss: 2.6504 - val_sparse_categorical_accuracy: 0.3000\n",
            "Epoch 23/150\n",
            "6/6 - 9s - loss: 0.3062 - sparse_categorical_accuracy: 0.8792 - val_loss: 3.3531 - val_sparse_categorical_accuracy: 0.4250\n",
            "Epoch 24/150\n",
            "6/6 - 9s - loss: 0.2933 - sparse_categorical_accuracy: 0.9000 - val_loss: 6.5337 - val_sparse_categorical_accuracy: 0.2500\n",
            "Epoch 25/150\n",
            "6/6 - 9s - loss: 0.3222 - sparse_categorical_accuracy: 0.8708 - val_loss: 3.2051 - val_sparse_categorical_accuracy: 0.3500\n",
            "Epoch 26/150\n",
            "6/6 - 9s - loss: 0.3308 - sparse_categorical_accuracy: 0.8875 - val_loss: 3.2161 - val_sparse_categorical_accuracy: 0.4000\n",
            "Epoch 27/150\n",
            "6/6 - 9s - loss: 0.3983 - sparse_categorical_accuracy: 0.8583 - val_loss: 4.4310 - val_sparse_categorical_accuracy: 0.2500\n",
            "Epoch 28/150\n",
            "6/6 - 9s - loss: 0.2973 - sparse_categorical_accuracy: 0.8875 - val_loss: 4.1911 - val_sparse_categorical_accuracy: 0.3750\n",
            "Epoch 29/150\n",
            "6/6 - 9s - loss: 0.3180 - sparse_categorical_accuracy: 0.8875 - val_loss: 3.4040 - val_sparse_categorical_accuracy: 0.3500\n",
            "Epoch 30/150\n",
            "6/6 - 9s - loss: 0.3093 - sparse_categorical_accuracy: 0.8833 - val_loss: 3.2764 - val_sparse_categorical_accuracy: 0.3500\n",
            "Epoch 31/150\n",
            "6/6 - 9s - loss: 0.2928 - sparse_categorical_accuracy: 0.8833 - val_loss: 4.0130 - val_sparse_categorical_accuracy: 0.3000\n",
            "Epoch 32/150\n",
            "6/6 - 9s - loss: 0.2666 - sparse_categorical_accuracy: 0.9208 - val_loss: 2.5197 - val_sparse_categorical_accuracy: 0.3750\n",
            "Epoch 33/150\n",
            "6/6 - 9s - loss: 0.2110 - sparse_categorical_accuracy: 0.9208 - val_loss: 2.5871 - val_sparse_categorical_accuracy: 0.4250\n",
            "Epoch 34/150\n",
            "6/6 - 9s - loss: 0.2801 - sparse_categorical_accuracy: 0.8875 - val_loss: 3.3923 - val_sparse_categorical_accuracy: 0.3250\n",
            "Epoch 35/150\n",
            "6/6 - 9s - loss: 0.2983 - sparse_categorical_accuracy: 0.9167 - val_loss: 3.3529 - val_sparse_categorical_accuracy: 0.3500\n",
            "Epoch 36/150\n",
            "6/6 - 9s - loss: 0.3956 - sparse_categorical_accuracy: 0.8625 - val_loss: 3.0678 - val_sparse_categorical_accuracy: 0.4250\n",
            "Epoch 37/150\n",
            "6/6 - 9s - loss: 0.2421 - sparse_categorical_accuracy: 0.9042 - val_loss: 2.9302 - val_sparse_categorical_accuracy: 0.3500\n",
            "Epoch 38/150\n",
            "6/6 - 9s - loss: 0.2988 - sparse_categorical_accuracy: 0.8833 - val_loss: 2.8346 - val_sparse_categorical_accuracy: 0.4000\n",
            "Epoch 39/150\n",
            "6/6 - 9s - loss: 0.2096 - sparse_categorical_accuracy: 0.9208 - val_loss: 3.8968 - val_sparse_categorical_accuracy: 0.3750\n",
            "Epoch 40/150\n",
            "6/6 - 9s - loss: 0.2579 - sparse_categorical_accuracy: 0.8958 - val_loss: 3.1430 - val_sparse_categorical_accuracy: 0.3750\n",
            "Epoch 41/150\n",
            "6/6 - 9s - loss: 0.2577 - sparse_categorical_accuracy: 0.9083 - val_loss: 2.0639 - val_sparse_categorical_accuracy: 0.4500\n",
            "Epoch 42/150\n",
            "6/6 - 9s - loss: 0.2551 - sparse_categorical_accuracy: 0.9083 - val_loss: 2.5162 - val_sparse_categorical_accuracy: 0.3500\n",
            "Epoch 43/150\n",
            "6/6 - 9s - loss: 0.1948 - sparse_categorical_accuracy: 0.9500 - val_loss: 3.1884 - val_sparse_categorical_accuracy: 0.4000\n",
            "Epoch 44/150\n",
            "6/6 - 9s - loss: 0.2530 - sparse_categorical_accuracy: 0.9125 - val_loss: 2.2796 - val_sparse_categorical_accuracy: 0.4000\n",
            "Epoch 45/150\n",
            "6/6 - 9s - loss: 0.2942 - sparse_categorical_accuracy: 0.9125 - val_loss: 3.1971 - val_sparse_categorical_accuracy: 0.3750\n",
            "Epoch 46/150\n",
            "6/6 - 9s - loss: 0.2051 - sparse_categorical_accuracy: 0.9333 - val_loss: 3.7235 - val_sparse_categorical_accuracy: 0.4250\n",
            "Epoch 47/150\n",
            "6/6 - 9s - loss: 0.1359 - sparse_categorical_accuracy: 0.9542 - val_loss: 2.6637 - val_sparse_categorical_accuracy: 0.4500\n",
            "Epoch 48/150\n",
            "6/6 - 9s - loss: 0.2048 - sparse_categorical_accuracy: 0.9167 - val_loss: 2.8206 - val_sparse_categorical_accuracy: 0.4500\n",
            "Epoch 49/150\n",
            "6/6 - 9s - loss: 0.2660 - sparse_categorical_accuracy: 0.9042 - val_loss: 2.4669 - val_sparse_categorical_accuracy: 0.4250\n",
            "Epoch 50/150\n",
            "6/6 - 9s - loss: 0.1621 - sparse_categorical_accuracy: 0.9333 - val_loss: 2.2943 - val_sparse_categorical_accuracy: 0.4250\n",
            "Epoch 51/150\n",
            "6/6 - 9s - loss: 0.2492 - sparse_categorical_accuracy: 0.9083 - val_loss: 2.2404 - val_sparse_categorical_accuracy: 0.4750\n",
            "Epoch 52/150\n",
            "6/6 - 9s - loss: 0.2365 - sparse_categorical_accuracy: 0.9250 - val_loss: 3.3577 - val_sparse_categorical_accuracy: 0.4750\n",
            "Epoch 53/150\n",
            "6/6 - 9s - loss: 0.2525 - sparse_categorical_accuracy: 0.9125 - val_loss: 2.7707 - val_sparse_categorical_accuracy: 0.5000\n",
            "Epoch 54/150\n",
            "6/6 - 9s - loss: 0.1504 - sparse_categorical_accuracy: 0.9417 - val_loss: 2.2786 - val_sparse_categorical_accuracy: 0.4250\n",
            "Epoch 55/150\n",
            "6/6 - 9s - loss: 0.1267 - sparse_categorical_accuracy: 0.9375 - val_loss: 2.5046 - val_sparse_categorical_accuracy: 0.2750\n",
            "Epoch 56/150\n",
            "6/6 - 9s - loss: 0.2220 - sparse_categorical_accuracy: 0.9333 - val_loss: 1.8190 - val_sparse_categorical_accuracy: 0.4250\n",
            "Epoch 57/150\n",
            "6/6 - 9s - loss: 0.1946 - sparse_categorical_accuracy: 0.9333 - val_loss: 1.7841 - val_sparse_categorical_accuracy: 0.5000\n",
            "Epoch 58/150\n",
            "6/6 - 9s - loss: 0.1967 - sparse_categorical_accuracy: 0.9250 - val_loss: 1.4161 - val_sparse_categorical_accuracy: 0.6250\n",
            "Epoch 59/150\n",
            "6/6 - 9s - loss: 0.2362 - sparse_categorical_accuracy: 0.9292 - val_loss: 1.7491 - val_sparse_categorical_accuracy: 0.5750\n",
            "Epoch 60/150\n",
            "6/6 - 9s - loss: 0.2127 - sparse_categorical_accuracy: 0.9333 - val_loss: 1.3501 - val_sparse_categorical_accuracy: 0.6500\n",
            "Epoch 61/150\n",
            "6/6 - 9s - loss: 0.1726 - sparse_categorical_accuracy: 0.9375 - val_loss: 1.1940 - val_sparse_categorical_accuracy: 0.5750\n",
            "Epoch 62/150\n",
            "6/6 - 9s - loss: 0.2339 - sparse_categorical_accuracy: 0.9417 - val_loss: 1.1517 - val_sparse_categorical_accuracy: 0.6500\n",
            "Epoch 63/150\n",
            "6/6 - 9s - loss: 0.1191 - sparse_categorical_accuracy: 0.9583 - val_loss: 1.3327 - val_sparse_categorical_accuracy: 0.5250\n",
            "Epoch 64/150\n",
            "6/6 - 9s - loss: 0.1529 - sparse_categorical_accuracy: 0.9417 - val_loss: 1.1876 - val_sparse_categorical_accuracy: 0.6000\n",
            "Epoch 65/150\n",
            "6/6 - 9s - loss: 0.1940 - sparse_categorical_accuracy: 0.9292 - val_loss: 1.2361 - val_sparse_categorical_accuracy: 0.6000\n",
            "Epoch 66/150\n",
            "6/6 - 9s - loss: 0.1572 - sparse_categorical_accuracy: 0.9542 - val_loss: 1.2890 - val_sparse_categorical_accuracy: 0.4750\n",
            "Epoch 67/150\n",
            "6/6 - 8s - loss: 0.2692 - sparse_categorical_accuracy: 0.9458 - val_loss: 1.2490 - val_sparse_categorical_accuracy: 0.5000\n",
            "Epoch 68/150\n",
            "6/6 - 8s - loss: 0.1920 - sparse_categorical_accuracy: 0.9333 - val_loss: 1.5174 - val_sparse_categorical_accuracy: 0.5000\n",
            "Epoch 69/150\n",
            "6/6 - 9s - loss: 0.1951 - sparse_categorical_accuracy: 0.9292 - val_loss: 1.5407 - val_sparse_categorical_accuracy: 0.6000\n",
            "Epoch 70/150\n",
            "6/6 - 9s - loss: 0.1646 - sparse_categorical_accuracy: 0.9458 - val_loss: 1.8734 - val_sparse_categorical_accuracy: 0.4500\n",
            "Epoch 71/150\n",
            "6/6 - 8s - loss: 0.1674 - sparse_categorical_accuracy: 0.9375 - val_loss: 1.6359 - val_sparse_categorical_accuracy: 0.4500\n",
            "Epoch 72/150\n",
            "6/6 - 9s - loss: 0.1749 - sparse_categorical_accuracy: 0.9375 - val_loss: 1.3991 - val_sparse_categorical_accuracy: 0.5500\n",
            "Epoch 73/150\n",
            "6/6 - 9s - loss: 0.2317 - sparse_categorical_accuracy: 0.9125 - val_loss: 1.4332 - val_sparse_categorical_accuracy: 0.5500\n",
            "Epoch 74/150\n",
            "6/6 - 9s - loss: 0.2887 - sparse_categorical_accuracy: 0.8917 - val_loss: 1.7586 - val_sparse_categorical_accuracy: 0.5500\n",
            "Epoch 75/150\n",
            "6/6 - 9s - loss: 0.2749 - sparse_categorical_accuracy: 0.9125 - val_loss: 1.1210 - val_sparse_categorical_accuracy: 0.5750\n",
            "Epoch 76/150\n",
            "6/6 - 9s - loss: 0.2502 - sparse_categorical_accuracy: 0.9333 - val_loss: 1.0411 - val_sparse_categorical_accuracy: 0.7000\n",
            "Epoch 77/150\n",
            "6/6 - 9s - loss: 0.2523 - sparse_categorical_accuracy: 0.9333 - val_loss: 1.4302 - val_sparse_categorical_accuracy: 0.6250\n",
            "Epoch 78/150\n",
            "6/6 - 9s - loss: 0.2505 - sparse_categorical_accuracy: 0.9042 - val_loss: 0.9103 - val_sparse_categorical_accuracy: 0.6500\n",
            "Epoch 79/150\n",
            "6/6 - 9s - loss: 0.1969 - sparse_categorical_accuracy: 0.9167 - val_loss: 1.0505 - val_sparse_categorical_accuracy: 0.6000\n",
            "Epoch 80/150\n",
            "6/6 - 9s - loss: 0.2895 - sparse_categorical_accuracy: 0.9333 - val_loss: 1.6290 - val_sparse_categorical_accuracy: 0.5500\n",
            "Epoch 81/150\n",
            "6/6 - 8s - loss: 0.1485 - sparse_categorical_accuracy: 0.9458 - val_loss: 1.3157 - val_sparse_categorical_accuracy: 0.6500\n",
            "Epoch 82/150\n",
            "6/6 - 8s - loss: 0.1445 - sparse_categorical_accuracy: 0.9500 - val_loss: 1.2664 - val_sparse_categorical_accuracy: 0.7250\n",
            "Epoch 83/150\n",
            "6/6 - 9s - loss: 0.2504 - sparse_categorical_accuracy: 0.9292 - val_loss: 1.1264 - val_sparse_categorical_accuracy: 0.7500\n",
            "Epoch 84/150\n",
            "6/6 - 8s - loss: 0.1583 - sparse_categorical_accuracy: 0.9292 - val_loss: 1.0575 - val_sparse_categorical_accuracy: 0.7250\n",
            "Epoch 85/150\n",
            "6/6 - 9s - loss: 0.1350 - sparse_categorical_accuracy: 0.9458 - val_loss: 1.3963 - val_sparse_categorical_accuracy: 0.6250\n",
            "Epoch 86/150\n",
            "6/6 - 9s - loss: 0.1664 - sparse_categorical_accuracy: 0.9333 - val_loss: 0.9315 - val_sparse_categorical_accuracy: 0.6750\n",
            "Epoch 87/150\n",
            "6/6 - 8s - loss: 0.0923 - sparse_categorical_accuracy: 0.9625 - val_loss: 0.8078 - val_sparse_categorical_accuracy: 0.7250\n",
            "Epoch 88/150\n",
            "6/6 - 9s - loss: 0.1506 - sparse_categorical_accuracy: 0.9500 - val_loss: 1.1639 - val_sparse_categorical_accuracy: 0.6000\n",
            "Epoch 89/150\n",
            "6/6 - 9s - loss: 0.1746 - sparse_categorical_accuracy: 0.9333 - val_loss: 1.3535 - val_sparse_categorical_accuracy: 0.6250\n",
            "Epoch 90/150\n",
            "6/6 - 9s - loss: 0.1020 - sparse_categorical_accuracy: 0.9583 - val_loss: 1.4465 - val_sparse_categorical_accuracy: 0.6000\n",
            "Epoch 91/150\n",
            "6/6 - 9s - loss: 0.1409 - sparse_categorical_accuracy: 0.9542 - val_loss: 1.1784 - val_sparse_categorical_accuracy: 0.6250\n",
            "Epoch 92/150\n",
            "6/6 - 9s - loss: 0.1215 - sparse_categorical_accuracy: 0.9500 - val_loss: 1.1831 - val_sparse_categorical_accuracy: 0.7000\n",
            "Epoch 93/150\n",
            "6/6 - 9s - loss: 0.1924 - sparse_categorical_accuracy: 0.9458 - val_loss: 0.7608 - val_sparse_categorical_accuracy: 0.8250\n",
            "Epoch 94/150\n",
            "6/6 - 9s - loss: 0.0773 - sparse_categorical_accuracy: 0.9750 - val_loss: 0.9797 - val_sparse_categorical_accuracy: 0.6000\n",
            "Epoch 95/150\n",
            "6/6 - 9s - loss: 0.0950 - sparse_categorical_accuracy: 0.9625 - val_loss: 0.3878 - val_sparse_categorical_accuracy: 0.8250\n",
            "Epoch 96/150\n",
            "6/6 - 9s - loss: 0.0734 - sparse_categorical_accuracy: 0.9792 - val_loss: 0.9935 - val_sparse_categorical_accuracy: 0.6750\n",
            "Epoch 97/150\n",
            "6/6 - 9s - loss: 0.1276 - sparse_categorical_accuracy: 0.9500 - val_loss: 1.3125 - val_sparse_categorical_accuracy: 0.5500\n",
            "Epoch 98/150\n",
            "6/6 - 8s - loss: 0.1310 - sparse_categorical_accuracy: 0.9583 - val_loss: 1.0854 - val_sparse_categorical_accuracy: 0.7750\n",
            "Epoch 99/150\n",
            "6/6 - 8s - loss: 0.0799 - sparse_categorical_accuracy: 0.9708 - val_loss: 1.1542 - val_sparse_categorical_accuracy: 0.7000\n",
            "Epoch 100/150\n",
            "6/6 - 8s - loss: 0.0774 - sparse_categorical_accuracy: 0.9792 - val_loss: 0.8593 - val_sparse_categorical_accuracy: 0.7250\n",
            "Epoch 101/150\n",
            "6/6 - 9s - loss: 0.1197 - sparse_categorical_accuracy: 0.9375 - val_loss: 0.9806 - val_sparse_categorical_accuracy: 0.7000\n",
            "Epoch 102/150\n",
            "6/6 - 9s - loss: 0.0761 - sparse_categorical_accuracy: 0.9750 - val_loss: 1.0321 - val_sparse_categorical_accuracy: 0.7750\n",
            "Epoch 103/150\n",
            "6/6 - 8s - loss: 0.0550 - sparse_categorical_accuracy: 0.9833 - val_loss: 1.1251 - val_sparse_categorical_accuracy: 0.6250\n",
            "Epoch 104/150\n",
            "6/6 - 9s - loss: 0.1015 - sparse_categorical_accuracy: 0.9625 - val_loss: 1.6604 - val_sparse_categorical_accuracy: 0.6500\n",
            "Epoch 105/150\n",
            "6/6 - 9s - loss: 0.1021 - sparse_categorical_accuracy: 0.9542 - val_loss: 1.4419 - val_sparse_categorical_accuracy: 0.6500\n",
            "Epoch 106/150\n",
            "6/6 - 9s - loss: 0.1413 - sparse_categorical_accuracy: 0.9625 - val_loss: 1.4422 - val_sparse_categorical_accuracy: 0.6250\n",
            "Epoch 107/150\n",
            "6/6 - 8s - loss: 0.0805 - sparse_categorical_accuracy: 0.9750 - val_loss: 1.2152 - val_sparse_categorical_accuracy: 0.7000\n",
            "Epoch 108/150\n",
            "6/6 - 9s - loss: 0.0712 - sparse_categorical_accuracy: 0.9750 - val_loss: 1.6207 - val_sparse_categorical_accuracy: 0.5750\n",
            "Epoch 109/150\n",
            "6/6 - 9s - loss: 0.1316 - sparse_categorical_accuracy: 0.9500 - val_loss: 1.5909 - val_sparse_categorical_accuracy: 0.6000\n",
            "Epoch 110/150\n",
            "6/6 - 8s - loss: 0.0745 - sparse_categorical_accuracy: 0.9792 - val_loss: 1.7903 - val_sparse_categorical_accuracy: 0.7000\n",
            "Epoch 111/150\n",
            "6/6 - 9s - loss: 0.0826 - sparse_categorical_accuracy: 0.9667 - val_loss: 1.6492 - val_sparse_categorical_accuracy: 0.7000\n",
            "Epoch 112/150\n",
            "6/6 - 9s - loss: 0.0966 - sparse_categorical_accuracy: 0.9583 - val_loss: 1.2584 - val_sparse_categorical_accuracy: 0.6500\n",
            "Epoch 113/150\n",
            "6/6 - 9s - loss: 0.1042 - sparse_categorical_accuracy: 0.9667 - val_loss: 1.3323 - val_sparse_categorical_accuracy: 0.7000\n",
            "Epoch 114/150\n",
            "6/6 - 9s - loss: 0.1391 - sparse_categorical_accuracy: 0.9458 - val_loss: 1.2910 - val_sparse_categorical_accuracy: 0.7500\n",
            "Epoch 115/150\n",
            "6/6 - 9s - loss: 0.0652 - sparse_categorical_accuracy: 0.9792 - val_loss: 1.0971 - val_sparse_categorical_accuracy: 0.6000\n",
            "Epoch 116/150\n",
            "6/6 - 8s - loss: 0.0735 - sparse_categorical_accuracy: 0.9667 - val_loss: 1.4774 - val_sparse_categorical_accuracy: 0.5500\n",
            "Epoch 117/150\n",
            "6/6 - 9s - loss: 0.0723 - sparse_categorical_accuracy: 0.9750 - val_loss: 1.0405 - val_sparse_categorical_accuracy: 0.7250\n",
            "Epoch 118/150\n",
            "6/6 - 8s - loss: 0.0639 - sparse_categorical_accuracy: 0.9667 - val_loss: 1.2773 - val_sparse_categorical_accuracy: 0.8000\n",
            "Epoch 119/150\n",
            "6/6 - 8s - loss: 0.1068 - sparse_categorical_accuracy: 0.9667 - val_loss: 1.7857 - val_sparse_categorical_accuracy: 0.6500\n",
            "Epoch 120/150\n",
            "6/6 - 9s - loss: 0.1342 - sparse_categorical_accuracy: 0.9500 - val_loss: 2.6214 - val_sparse_categorical_accuracy: 0.5750\n",
            "Epoch 121/150\n",
            "6/6 - 9s - loss: 0.1704 - sparse_categorical_accuracy: 0.9542 - val_loss: 2.0286 - val_sparse_categorical_accuracy: 0.7000\n",
            "Epoch 122/150\n",
            "6/6 - 9s - loss: 0.0765 - sparse_categorical_accuracy: 0.9667 - val_loss: 2.1752 - val_sparse_categorical_accuracy: 0.6250\n",
            "Epoch 123/150\n",
            "6/6 - 9s - loss: 0.1187 - sparse_categorical_accuracy: 0.9500 - val_loss: 2.2328 - val_sparse_categorical_accuracy: 0.5750\n",
            "Epoch 124/150\n",
            "6/6 - 9s - loss: 0.1277 - sparse_categorical_accuracy: 0.9542 - val_loss: 2.3292 - val_sparse_categorical_accuracy: 0.6250\n",
            "Epoch 125/150\n",
            "6/6 - 9s - loss: 0.0798 - sparse_categorical_accuracy: 0.9750 - val_loss: 2.0672 - val_sparse_categorical_accuracy: 0.5750\n",
            "Epoch 126/150\n",
            "6/6 - 8s - loss: 0.1485 - sparse_categorical_accuracy: 0.9458 - val_loss: 1.7395 - val_sparse_categorical_accuracy: 0.8000\n",
            "Epoch 127/150\n",
            "6/6 - 8s - loss: 0.1356 - sparse_categorical_accuracy: 0.9625 - val_loss: 1.5850 - val_sparse_categorical_accuracy: 0.7500\n",
            "Epoch 128/150\n",
            "6/6 - 8s - loss: 0.1640 - sparse_categorical_accuracy: 0.9417 - val_loss: 2.2964 - val_sparse_categorical_accuracy: 0.6500\n",
            "Epoch 129/150\n",
            "6/6 - 9s - loss: 0.1414 - sparse_categorical_accuracy: 0.9500 - val_loss: 2.5790 - val_sparse_categorical_accuracy: 0.6750\n",
            "Epoch 130/150\n",
            "6/6 - 8s - loss: 0.1640 - sparse_categorical_accuracy: 0.9458 - val_loss: 2.8704 - val_sparse_categorical_accuracy: 0.6500\n",
            "Epoch 131/150\n",
            "6/6 - 9s - loss: 0.1377 - sparse_categorical_accuracy: 0.9500 - val_loss: 1.9119 - val_sparse_categorical_accuracy: 0.7500\n",
            "Epoch 132/150\n",
            "6/6 - 9s - loss: 0.1578 - sparse_categorical_accuracy: 0.9583 - val_loss: 1.8937 - val_sparse_categorical_accuracy: 0.7250\n",
            "Epoch 133/150\n",
            "6/6 - 9s - loss: 0.2077 - sparse_categorical_accuracy: 0.9125 - val_loss: 1.9950 - val_sparse_categorical_accuracy: 0.7250\n",
            "Epoch 134/150\n",
            "6/6 - 9s - loss: 0.1191 - sparse_categorical_accuracy: 0.9458 - val_loss: 1.9592 - val_sparse_categorical_accuracy: 0.7500\n",
            "Epoch 135/150\n",
            "6/6 - 9s - loss: 0.1575 - sparse_categorical_accuracy: 0.9458 - val_loss: 1.9413 - val_sparse_categorical_accuracy: 0.6000\n",
            "Epoch 136/150\n",
            "6/6 - 9s - loss: 0.0873 - sparse_categorical_accuracy: 0.9625 - val_loss: 1.8475 - val_sparse_categorical_accuracy: 0.6000\n",
            "Epoch 137/150\n",
            "6/6 - 9s - loss: 0.1696 - sparse_categorical_accuracy: 0.9417 - val_loss: 2.1527 - val_sparse_categorical_accuracy: 0.7000\n",
            "Epoch 138/150\n",
            "6/6 - 9s - loss: 0.1958 - sparse_categorical_accuracy: 0.9375 - val_loss: 2.3374 - val_sparse_categorical_accuracy: 0.6750\n",
            "Epoch 139/150\n",
            "6/6 - 9s - loss: 0.1513 - sparse_categorical_accuracy: 0.9417 - val_loss: 1.6050 - val_sparse_categorical_accuracy: 0.7250\n",
            "Epoch 140/150\n",
            "6/6 - 9s - loss: 0.0978 - sparse_categorical_accuracy: 0.9542 - val_loss: 1.8650 - val_sparse_categorical_accuracy: 0.7250\n",
            "Epoch 141/150\n",
            "6/6 - 9s - loss: 0.1010 - sparse_categorical_accuracy: 0.9542 - val_loss: 1.6728 - val_sparse_categorical_accuracy: 0.8000\n",
            "Epoch 142/150\n",
            "6/6 - 9s - loss: 0.1061 - sparse_categorical_accuracy: 0.9500 - val_loss: 1.7652 - val_sparse_categorical_accuracy: 0.7750\n",
            "Epoch 143/150\n",
            "6/6 - 9s - loss: 0.1204 - sparse_categorical_accuracy: 0.9542 - val_loss: 1.5678 - val_sparse_categorical_accuracy: 0.7000\n",
            "Epoch 144/150\n",
            "6/6 - 9s - loss: 0.1210 - sparse_categorical_accuracy: 0.9458 - val_loss: 1.5486 - val_sparse_categorical_accuracy: 0.7250\n",
            "Epoch 145/150\n",
            "6/6 - 8s - loss: 0.0792 - sparse_categorical_accuracy: 0.9750 - val_loss: 1.8135 - val_sparse_categorical_accuracy: 0.7000\n",
            "Epoch 146/150\n",
            "6/6 - 8s - loss: 0.0884 - sparse_categorical_accuracy: 0.9583 - val_loss: 1.1507 - val_sparse_categorical_accuracy: 0.7250\n",
            "Epoch 147/150\n",
            "6/6 - 8s - loss: 0.1116 - sparse_categorical_accuracy: 0.9458 - val_loss: 1.2627 - val_sparse_categorical_accuracy: 0.6750\n",
            "Epoch 148/150\n",
            "6/6 - 8s - loss: 0.1473 - sparse_categorical_accuracy: 0.9542 - val_loss: 2.4517 - val_sparse_categorical_accuracy: 0.6750\n",
            "Epoch 149/150\n",
            "6/6 - 9s - loss: 0.0796 - sparse_categorical_accuracy: 0.9708 - val_loss: 1.8334 - val_sparse_categorical_accuracy: 0.7250\n",
            "Epoch 150/150\n",
            "6/6 - 9s - loss: 0.1228 - sparse_categorical_accuracy: 0.9458 - val_loss: 1.9024 - val_sparse_categorical_accuracy: 0.7250\n"
          ],
          "name": "stdout"
        }
      ]
    },
    {
      "cell_type": "markdown",
      "metadata": {
        "id": "Q5Vulban4ZrD"
      },
      "source": [
        "Let's plot the training/validation accuracy and loss as collected during training:"
      ]
    },
    {
      "cell_type": "code",
      "metadata": {
        "colab": {
          "base_uri": "https://localhost:8080/",
          "height": 562
        },
        "id": "0oj0gTIy4k60",
        "outputId": "f70667a2-5dba-4a68-ff9a-0a87188b75b1"
      },
      "source": [
        "%matplotlib inline\n",
        "import matplotlib.image as mpimg\n",
        "import matplotlib.pyplot as plt\n",
        "\n",
        "\n",
        "# Retrieve a list of list results on training and test data\n",
        "# sets for each training epoch\n",
        "\n",
        "acc      = history.history[    'sparse_categorical_accuracy' ]\n",
        "val_acc  = history.history[ 'val_sparse_categorical_accuracy' ]\n",
        "loss     = history.history[    'loss' ]\n",
        "val_loss = history.history['val_loss' ]\n",
        "\n",
        "epochs   = range(len(acc)) #number of epochs\n",
        "\n",
        "# Plot training and validation accuracy per epoch\n",
        "\n",
        "plt.plot  ( epochs,     acc, label='Training')\n",
        "plt.plot  ( epochs, val_acc, label='Validation')\n",
        "plt.title ('Training and validation accuracy')\n",
        "plt.legend()\n",
        "plt.figure()\n",
        "\n",
        "# Plot training and validation loss per epoch\n",
        "\n",
        "plt.plot  ( epochs,     loss, label='Training')\n",
        "plt.plot  ( epochs, val_loss, label='Validation')\n",
        "plt.legend()\n",
        "plt.title ('Training and validation loss')"
      ],
      "execution_count": null,
      "outputs": [
        {
          "output_type": "execute_result",
          "data": {
            "text/plain": [
              "Text(0.5, 1.0, 'Training and validation loss')"
            ]
          },
          "metadata": {
            "tags": []
          },
          "execution_count": 9
        },
        {
          "output_type": "display_data",
          "data": {
            "image/png": "[encoded data removed]",
            "text/plain": [
              "<Figure size 432x288 with 1 Axes>"
            ]
          },
          "metadata": {
            "tags": [],
            "needs_background": "light"
          }
        },
        {
          "output_type": "display_data",
          "data": {
            "image/png": "[encoded data removed]",
            "text/plain": [
              "<Figure size 432x288 with 1 Axes>"
            ]
          },
          "metadata": {
            "tags": [],
            "needs_background": "light"
          }
        }
      ]
    },
    {
      "cell_type": "code",
      "metadata": {
        "id": "VSh2_n29fMTG"
      },
      "source": [
        ""
      ],
      "execution_count": null,
      "outputs": []
    }
  ]
}